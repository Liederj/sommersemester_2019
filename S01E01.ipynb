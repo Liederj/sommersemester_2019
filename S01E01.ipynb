{
 "cells": [
  {
   "cell_type": "markdown",
   "metadata": {},
   "source": [
    "<img src=\"images/header.png\" style=\"float: left\"  width=\"800\">"
   ]
  },
  {
   "cell_type": "markdown",
   "metadata": {},
   "source": [
    "# Session 1"
   ]
  },
  {
   "cell_type": "markdown",
   "metadata": {},
   "source": [
    "## Organizational matters"
   ]
  },
  {
   "cell_type": "markdown",
   "metadata": {},
   "source": [
    "### Lecturers: \n",
    "    \n",
    "    Benjamin Roesner: benjamin.roesner@geo.uni-marburg.de\n",
    "    Sebastian Egli:   eglis@staff.uni-marburg.de"
   ]
  },
  {
   "cell_type": "markdown",
   "metadata": {},
   "source": [
    "### GitHub Classroom\n",
    "\n",
    "- Weekly exercises are distributed via github classroom \n",
    "- and must also be submitted there."
   ]
  },
  {
   "cell_type": "markdown",
   "metadata": {},
   "source": [
    "### OER: Open Educational Resources\n",
    "\n",
    "- All course information (slides, code) is managed on the OER platform: \n",
    "https://oer.uni-marburg.de/..."
   ]
  },
  {
   "cell_type": "markdown",
   "metadata": {},
   "source": [
    "### Software requirements\n",
    "\n",
    "- [Python 3](https://www.python.org/downloads/)\n",
    "- [git](https://git-scm.com/) - Install via: `sudo apt-get install git`\n",
    "- [PyCharm](https://www.jetbrains.com/pycharm/) (or another IDE of your choice)\n",
    "- [miniconda](https://docs.conda.io/en/latest/miniconda.html)"
   ]
  },
  {
   "cell_type": "markdown",
   "metadata": {},
   "source": [
    "### Why coding?"
   ]
  },
  {
   "cell_type": "markdown",
   "metadata": {},
   "source": [
    "<img src=\"images/coding_superpower.jpg\" style=\"float: left\"  width=\"600\"/>"
   ]
  },
  {
   "cell_type": "markdown",
   "metadata": {},
   "source": [
    "- Process automation\n",
    "- Work effectively with large data sets\n",
    "- ... what else? (Anschauliches Beispiel von Benjamin?)"
   ]
  },
  {
   "cell_type": "markdown",
   "metadata": {},
   "source": [
    "### Why Python?"
   ]
  },
  {
   "cell_type": "markdown",
   "metadata": {},
   "source": [
    "<img src=\"images/python_r_development.png\" style=\"float: left\" width=\"800\"/>"
   ]
  },
  {
   "cell_type": "markdown",
   "metadata": {},
   "source": [
    "> Python is an unusual case for being both one of the **most visited** tags on Stack Overflow and one of the **fastest-growing** ones. (Incidentally, it is also accelerating! Its year-over-year growth has become faster each year since 2013). Source: https://stackoverflow.blog/2017/09/06/incredible-growth-python/\n",
    "\n",
    "Python ...\n",
    "- is beginner friendly,\n",
    "- flexible,\n",
    "- readable,\n",
    "- has a big onliny community,\n",
    "- is a first-class tool for scientific computing tasks, including the analysis and visualization of large datasets,\n",
    "- is used in\n",
    "    - Remote Sensing\n",
    "    - Machine Learning\n",
    "    - Big Data\n",
    "    - Image Processing\n",
    "    - Data Analysis\n",
    "    - Data Visualization\n",
    "\n",
    "\n",
    "- is the 2nd most demanded programming skill (in the US)\n",
    "- is the 2nd best paid programming skill (> 105'000$ in the US)\n",
    "- is heavily used at large companies like Google & Facebook but also at NASA, ESA, EUMETSAT, etc.\n",
    "\n",
    "----------"
   ]
  },
  {
   "cell_type": "markdown",
   "metadata": {},
   "source": [
    "## Syllabus"
   ]
  },
  {
   "cell_type": "markdown",
   "metadata": {},
   "source": [
    "**1. Introduction & Orga**\n",
    "\n",
    "**2. Python Basics I**\n",
    "- Variables\n",
    "- Data types\n",
    "- Operators\n",
    "- Formatted printing\n",
    "    \n",
    "**3. Python Basics II**\n",
    "- Sequential data types (Strings & Lists)\n",
    "- List manipulation (peek, pop, deep copies, ...)\n",
    "- Indents\n",
    "- for- and while- loops\n",
    "- CVonditional cases\n",
    "\n",
    "**4. Python Basics III**\n",
    "- Dictionaries\n",
    "- Methods\n",
    "- global vs. local variables\n",
    "\n",
    "**5. Python Basics IV**\n",
    "- try/except\n",
    "- read/write text files\n",
    "- import function\n",
    "\n",
    "**6. Visualization I**\n",
    "- matplotlib\n",
    "- Line plots, scatter plots, bar plots \n",
    "\n",
    "**7. Essentials for data science**\n",
    "- numpy  (unlabeled nd-arrays)\n",
    "- xarray (labeled nd-arrays)\n",
    "- pandas (csv-import, Datasets)\n",
    "\n",
    "**8. Visualization II**\n",
    "- CartoPy\n",
    "- Image plots\n",
    "- Map plots (of georeferenced data)\n",
    "\n",
    "**9. SatPy I**\n",
    "- Read Meteosat scene\n",
    "- print and interpret scene properties\n",
    "- visualize data\n",
    "- Write data to disk\n",
    "\n",
    "**10. SatPy II**\n",
    "- Reproject satellite data (resampling)\n",
    "- create band combinations\n",
    "- MultiScene function\n",
    "\n",
    "**11. SatPy III**\n",
    "- Integration of multiple satellite formats (MODIS, Meteosat, ...)\n",
    "\n",
    "**12. Wrap-Up**\n",
    "- ??\n",
    "- Feedback"
   ]
  },
  {
   "cell_type": "markdown",
   "metadata": {},
   "source": [
    "## Todos:\n",
    "\n",
    "- Please create an account at github: https://github.com/\n",
    "- Register at classroom\n",
    "- Check, if you have all softare requirements\n",
    "- ..."
   ]
  },
  {
   "cell_type": "code",
   "execution_count": null,
   "metadata": {},
   "outputs": [],
   "source": []
  }
 ],
 "metadata": {
  "kernelspec": {
   "display_name": "Python 3",
   "language": "python",
   "name": "python3"
  },
  "language_info": {
   "codemirror_mode": {
    "name": "ipython",
    "version": 3
   },
   "file_extension": ".py",
   "mimetype": "text/x-python",
   "name": "python",
   "nbconvert_exporter": "python",
   "pygments_lexer": "ipython3",
   "version": "3.6.7"
  }
 },
 "nbformat": 4,
 "nbformat_minor": 2
}
