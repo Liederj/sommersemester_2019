{
 "cells": [
  {
   "cell_type": "markdown",
   "metadata": {
    "slideshow": {
     "slide_type": "slide"
    }
   },
   "source": [
    "![](images/logo/logo.png)\n",
    "\n",
    "# Welcome to the course!"
   ]
  },
  {
   "cell_type": "markdown",
   "metadata": {
    "slideshow": {
     "slide_type": "slide"
    }
   },
   "source": [
    "## Lecturers\n",
    "\n",
    "- Benjamin Roesner: benjamin.roesner@geo.uni-marburg.de\n",
    "- Sebastian Egli:   sebastian.egli@geo.uni-marburg.de"
   ]
  },
  {
   "cell_type": "markdown",
   "metadata": {
    "slideshow": {
     "slide_type": "slide"
    }
   },
   "source": [
    "## Organizational matters\n",
    "\n",
    "- **3 ECTS** credits are awarded for successfully completing this course.\n",
    "- Course materials are made available on the **OER-Marburg** platform: [https://oer.uni-marburg.de/data/mriliasmooc/lm_data/lm_2934/intro.html](https://oer.uni-marburg.de/data/mriliasmooc/lm_data/lm_2934/intro.html)\n",
    "- Weekly exercises are distributed via **github classroom** and must also be submitted there.\n",
    "- To pass the course, at least **50%** of the weekly exercises must have been correctly completed."
   ]
  },
  {
   "cell_type": "markdown",
   "metadata": {
    "slideshow": {
     "slide_type": "slide"
    }
   },
   "source": [
    "## Software requirements\n",
    "\n",
    "- [git](https://git-scm.com/)\n",
    "    - open git BASH and enter the following commands:\n",
    "    \n",
    "    ```SHELL\n",
    "    git config --global user.name 'Firstname Lastname'\n",
    "    git config --global user.email 'your@email.com'\n",
    "    git config --global --list\n",
    "    ```"
   ]
  },
  {
   "cell_type": "markdown",
   "metadata": {
    "slideshow": {
     "slide_type": "slide"
    }
   },
   "source": [
    "- [miniconda](https://docs.conda.io/en/latest/miniconda.html)\n",
    "    - create a new environment based on this yaml-file: [https://github.com/python-kurs/sommersemester_2019/blob/master/environment.yaml](https://github.com/python-kurs/sommersemester_2019/blob/master/environment.yaml)\n",
    "\n",
    "This should already include the following software, which we will be using throughout this course:\n",
    "- [Python 3](https://www.python.org/downloads/)\n",
    "- [Spyder](https://www.spyder-ide.org/) (or another IDE of your choice)"
   ]
  },
  {
   "cell_type": "markdown",
   "metadata": {
    "slideshow": {
     "slide_type": "slide"
    }
   },
   "source": [
    "## GitHub Classroom\n",
    "\n",
    "- Create an account at github.com: [https://github.com/](https://github.com/)\n",
    "    - Plan: Free\n",
    "    - Verify email address\n",
    "    - Accept first assignment: [https://classroom.github.com/a/d3nKHTFf](https://classroom.github.com/a/d3nKHTFf)\n",
    "    - Clone (download) the assigned repository to your local machine: \n",
    "    \n",
    "    ```SHELL\n",
    "    git clone https://github.com/python-kurs/exercise-0-[yourname].git\n",
    "    ```"
   ]
  }
 ],
 "metadata": {
  "celltoolbar": "Slideshow",
  "kernelspec": {
   "display_name": "Python 3",
   "language": "python",
   "name": "python3"
  },
  "language_info": {
   "codemirror_mode": {
    "name": "ipython",
    "version": 3
   },
   "file_extension": ".py",
   "mimetype": "text/x-python",
   "name": "python",
   "nbconvert_exporter": "python",
   "pygments_lexer": "ipython3",
   "version": "3.7.1"
  }
 },
 "nbformat": 4,
 "nbformat_minor": 2
}
