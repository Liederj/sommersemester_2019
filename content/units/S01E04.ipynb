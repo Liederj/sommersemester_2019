{
 "cells": [
  {
   "cell_type": "markdown",
   "metadata": {
    "slideshow": {
     "slide_type": "slide"
    }
   },
   "source": [
    "# Data science I"
   ]
  },
  {
   "cell_type": "markdown",
   "metadata": {
    "slideshow": {
     "slide_type": "skip"
    },
    "tags": [
     "removecell"
    ]
   },
   "source": [
    "## pandas"
   ]
  },
  {
   "cell_type": "markdown",
   "metadata": {
    "slideshow": {
     "slide_type": "slide"
    }
   },
   "source": [
    "![](https://pandas.pydata.org/_static/pandas_logo.png)"
   ]
  },
  {
   "cell_type": "markdown",
   "metadata": {
    "slideshow": {
     "slide_type": "-"
    }
   },
   "source": [
    "**Python Data Analysis Library**\n",
    "\n",
    "> pandas is an open source, BSD-licensed library providing high-performance, easy-to-use data structures and data analysis tools for the Python programming language ([pandas-website](https://pandas.pydata.org/index.html))."
   ]
  },
  {
   "cell_type": "markdown",
   "metadata": {
    "slideshow": {
     "slide_type": "slide"
    }
   },
   "source": [
    "First-off a typical use case:"
   ]
  },
  {
   "cell_type": "code",
   "execution_count": 2,
   "metadata": {
    "slideshow": {
     "slide_type": "-"
    }
   },
   "outputs": [
    {
     "data": {
      "text/html": [
       "<div>\n",
       "<style scoped>\n",
       "    .dataframe tbody tr th:only-of-type {\n",
       "        vertical-align: middle;\n",
       "    }\n",
       "\n",
       "    .dataframe tbody tr th {\n",
       "        vertical-align: top;\n",
       "    }\n",
       "\n",
       "    .dataframe thead th {\n",
       "        text-align: right;\n",
       "    }\n",
       "</style>\n",
       "<table border=\"1\" class=\"dataframe\">\n",
       "  <thead>\n",
       "    <tr style=\"text-align: right;\">\n",
       "      <th></th>\n",
       "      <th>time</th>\n",
       "      <th>vis</th>\n",
       "      <th>temp</th>\n",
       "      <th>dewpt</th>\n",
       "      <th>winddir</th>\n",
       "      <th>windspeed</th>\n",
       "      <th>press_sealevel</th>\n",
       "      <th>cloudlevels</th>\n",
       "      <th>lcl_alt</th>\n",
       "      <th>lcl_cov</th>\n",
       "      <th>ucl_alt</th>\n",
       "      <th>ucl_cov</th>\n",
       "    </tr>\n",
       "  </thead>\n",
       "  <tbody>\n",
       "    <tr>\n",
       "      <th>0</th>\n",
       "      <td>2015-12-01 00:20</td>\n",
       "      <td>10000.0</td>\n",
       "      <td>11.0</td>\n",
       "      <td>8.0</td>\n",
       "      <td>230.0</td>\n",
       "      <td>19.0</td>\n",
       "      <td>1017.0</td>\n",
       "      <td>3.0</td>\n",
       "      <td>2600.0</td>\n",
       "      <td>FEW</td>\n",
       "      <td>14000.0</td>\n",
       "      <td>BKN</td>\n",
       "    </tr>\n",
       "    <tr>\n",
       "      <th>1</th>\n",
       "      <td>2015-12-01 00:50</td>\n",
       "      <td>10000.0</td>\n",
       "      <td>11.0</td>\n",
       "      <td>8.0</td>\n",
       "      <td>230.0</td>\n",
       "      <td>19.0</td>\n",
       "      <td>1017.0</td>\n",
       "      <td>2.0</td>\n",
       "      <td>2800.0</td>\n",
       "      <td>SCT</td>\n",
       "      <td>14000.0</td>\n",
       "      <td>BKN</td>\n",
       "    </tr>\n",
       "    <tr>\n",
       "      <th>2</th>\n",
       "      <td>2015-12-01 01:20</td>\n",
       "      <td>10000.0</td>\n",
       "      <td>11.0</td>\n",
       "      <td>8.0</td>\n",
       "      <td>230.0</td>\n",
       "      <td>16.0</td>\n",
       "      <td>1018.0</td>\n",
       "      <td>2.0</td>\n",
       "      <td>2800.0</td>\n",
       "      <td>SCT</td>\n",
       "      <td>13000.0</td>\n",
       "      <td>BKN</td>\n",
       "    </tr>\n",
       "    <tr>\n",
       "      <th>3</th>\n",
       "      <td>2015-12-01 01:50</td>\n",
       "      <td>10000.0</td>\n",
       "      <td>12.0</td>\n",
       "      <td>8.0</td>\n",
       "      <td>230.0</td>\n",
       "      <td>16.0</td>\n",
       "      <td>1018.0</td>\n",
       "      <td>2.0</td>\n",
       "      <td>2200.0</td>\n",
       "      <td>BKN</td>\n",
       "      <td>13000.0</td>\n",
       "      <td>BKN</td>\n",
       "    </tr>\n",
       "    <tr>\n",
       "      <th>4</th>\n",
       "      <td>2015-12-01 02:20</td>\n",
       "      <td>10000.0</td>\n",
       "      <td>12.0</td>\n",
       "      <td>8.0</td>\n",
       "      <td>220.0</td>\n",
       "      <td>14.0</td>\n",
       "      <td>1019.0</td>\n",
       "      <td>3.0</td>\n",
       "      <td>2200.0</td>\n",
       "      <td>FEW</td>\n",
       "      <td>12000.0</td>\n",
       "      <td>BKN</td>\n",
       "    </tr>\n",
       "  </tbody>\n",
       "</table>\n",
       "</div>"
      ],
      "text/plain": [
       "               time      vis  temp  dewpt  winddir  windspeed  press_sealevel  \\\n",
       "0  2015-12-01 00:20  10000.0  11.0    8.0    230.0       19.0          1017.0   \n",
       "1  2015-12-01 00:50  10000.0  11.0    8.0    230.0       19.0          1017.0   \n",
       "2  2015-12-01 01:20  10000.0  11.0    8.0    230.0       16.0          1018.0   \n",
       "3  2015-12-01 01:50  10000.0  12.0    8.0    230.0       16.0          1018.0   \n",
       "4  2015-12-01 02:20  10000.0  12.0    8.0    220.0       14.0          1019.0   \n",
       "\n",
       "   cloudlevels  lcl_alt lcl_cov  ucl_alt ucl_cov  \n",
       "0          3.0   2600.0     FEW  14000.0     BKN  \n",
       "1          2.0   2800.0     SCT  14000.0     BKN  \n",
       "2          2.0   2800.0     SCT  13000.0     BKN  \n",
       "3          2.0   2200.0     BKN  13000.0     BKN  \n",
       "4          3.0   2200.0     FEW  12000.0     BKN  "
      ]
     },
     "execution_count": 2,
     "metadata": {},
     "output_type": "execute_result"
    }
   ],
   "source": [
    "import pandas as pd\n",
    "\n",
    "tabelle = pd.read_csv('../data/metar_frankfurt.csv')\n",
    "tabelle.head()"
   ]
  },
  {
   "cell_type": "code",
   "execution_count": 35,
   "metadata": {
    "slideshow": {
     "slide_type": "slide"
    }
   },
   "outputs": [
    {
     "data": {
      "image/png": "[encoded data removed]",
      "text/plain": [
       "<Figure size 720x432 with 2 Axes>"
      ]
     },
     "metadata": {
      "needs_background": "light"
     },
     "output_type": "display_data"
    }
   ],
   "source": [
    "tabelle.plot.scatter(x=\"windspeed\",y=\"press_sealevel\",figsize=(10,6),fontsize=12,c=\"cloudlevels\",marker=\".\");"
   ]
  },
  {
   "cell_type": "code",
   "execution_count": null,
   "metadata": {},
   "outputs": [],
   "source": []
  },
  {
   "cell_type": "code",
   "execution_count": null,
   "metadata": {},
   "outputs": [],
   "source": []
  },
  {
   "cell_type": "markdown",
   "metadata": {
    "slideshow": {
     "slide_type": "skip"
    },
    "tags": [
     "removecell"
    ]
   },
   "source": [
    "## matplotlib"
   ]
  },
  {
   "cell_type": "markdown",
   "metadata": {
    "slideshow": {
     "slide_type": "slide"
    }
   },
   "source": [
    "![](https://matplotlib.org/_static/logo2.png)"
   ]
  },
  {
   "cell_type": "markdown",
   "metadata": {
    "slideshow": {
     "slide_type": "slide"
    },
    "tags": [
     "task"
    ]
   },
   "source": [
    "## Exercise 4\n",
    "\n",
    "- Complete the fourth assignment and push your results until tuesday 14:00 next week"
   ]
  }
 ],
 "metadata": {
  "celltoolbar": "Slideshow",
  "kernelspec": {
   "display_name": "Python 3",
   "language": "python",
   "name": "python3"
  },
  "language_info": {
   "codemirror_mode": {
    "name": "ipython",
    "version": 3
   },
   "file_extension": ".py",
   "mimetype": "text/x-python",
   "name": "python",
   "nbconvert_exporter": "python",
   "pygments_lexer": "ipython3",
   "version": "3.7.1"
  }
 },
 "nbformat": 4,
 "nbformat_minor": 2
}
