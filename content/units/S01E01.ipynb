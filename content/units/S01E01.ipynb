{
 "cells": [
  {
   "cell_type": "markdown",
   "metadata": {
    "slideshow": {
     "slide_type": "slide"
    }
   },
   "source": [
    "# Python Basics I"
   ]
  },
  {
   "cell_type": "markdown",
   "metadata": {
    "slideshow": {
     "slide_type": "-"
    }
   },
   "source": [
    "![](images/S01E02/python_interpreter.png)"
   ]
  },
  {
   "cell_type": "markdown",
   "metadata": {
    "slideshow": {
     "slide_type": "-"
    }
   },
   "source": [
    "Image source: https://indianpythonista.wordpress.com/2018/01/04/how-python-runs/"
   ]
  },
  {
   "cell_type": "markdown",
   "metadata": {
    "slideshow": {
     "slide_type": "slide"
    }
   },
   "source": [
    "## Hello world!"
   ]
  },
  {
   "cell_type": "markdown",
   "metadata": {
    "slideshow": {
     "slide_type": "-"
    }
   },
   "source": [
    "The obligatory \"Hello world!\" program. As you can see, it is very short in Python:"
   ]
  },
  {
   "cell_type": "code",
   "execution_count": 9,
   "metadata": {
    "slideshow": {
     "slide_type": "-"
    }
   },
   "outputs": [
    {
     "name": "stdout",
     "output_type": "stream",
     "text": [
      "Hello world!\n"
     ]
    }
   ],
   "source": [
    "print(\"Hello world!\")"
   ]
  },
  {
   "cell_type": "markdown",
   "metadata": {
    "slideshow": {
     "slide_type": "-"
    }
   },
   "source": [
    "The string `\"Hello world!\"` is passed to the method `print()` which prints the given argument to the output stream.\n",
    "This is normally the console. In this case, however, the output stream is redirected to this browser window (below the cell)."
   ]
  },
  {
   "cell_type": "markdown",
   "metadata": {
    "slideshow": {
     "slide_type": "slide"
    },
    "tags": [
     "task"
    ]
   },
   "source": [
    "**Task:**\n",
    "\n",
    "1. Start the interactive python shell\n",
    "2. Print your name to the console"
   ]
  },
  {
   "cell_type": "markdown",
   "metadata": {
    "slideshow": {
     "slide_type": "slide"
    }
   },
   "source": [
    "## Comments"
   ]
  },
  {
   "cell_type": "code",
   "execution_count": 6,
   "metadata": {
    "slideshow": {
     "slide_type": "-"
    }
   },
   "outputs": [],
   "source": [
    "# This is a comment and it is not interpreted by the compiler."
   ]
  },
  {
   "cell_type": "code",
   "execution_count": 7,
   "metadata": {
    "slideshow": {
     "slide_type": "-"
    }
   },
   "outputs": [
    {
     "name": "stdout",
     "output_type": "stream",
     "text": [
      "Hello world!\n"
     ]
    }
   ],
   "source": [
    "print(\"Hello world!\") # This line of code prints the string \"Hello world!\". The part behind the hastag is a comment"
   ]
  },
  {
   "cell_type": "markdown",
   "metadata": {
    "slideshow": {
     "slide_type": "slide"
    }
   },
   "source": [
    "## Variables & datatypes"
   ]
  },
  {
   "cell_type": "markdown",
   "metadata": {
    "slideshow": {
     "slide_type": "-"
    }
   },
   "source": [
    "In the following snippet, the string `\"Hello world!\"` is assigned to the variable `x` (using `=`).\n",
    "This means, that the string object `\"Hello world!\"` is stored in the PC's working memory and that the variable `x` points to this string object.\n",
    "`x` is then printed."
   ]
  },
  {
   "cell_type": "code",
   "execution_count": 1,
   "metadata": {
    "slideshow": {
     "slide_type": "-"
    }
   },
   "outputs": [
    {
     "name": "stdout",
     "output_type": "stream",
     "text": [
      "Hello world!\n"
     ]
    }
   ],
   "source": [
    "x = \"Hello world!\"\n",
    "print(x)"
   ]
  },
  {
   "cell_type": "markdown",
   "metadata": {
    "slideshow": {
     "slide_type": "fragment"
    }
   },
   "source": [
    "Variables can also point to numbers:"
   ]
  },
  {
   "cell_type": "code",
   "execution_count": 2,
   "metadata": {
    "slideshow": {
     "slide_type": "-"
    }
   },
   "outputs": [
    {
     "name": "stdout",
     "output_type": "stream",
     "text": [
      "42\n"
     ]
    }
   ],
   "source": [
    "x = 42\n",
    "print(x)"
   ]
  },
  {
   "cell_type": "markdown",
   "metadata": {
    "slideshow": {
     "slide_type": "slide"
    }
   },
   "source": [
    "In Python, there are basically 2 types of numbers: Integers (3,4,5,...) and floats (3.1415, 7.904532, ...):"
   ]
  },
  {
   "cell_type": "code",
   "execution_count": 25,
   "metadata": {
    "slideshow": {
     "slide_type": "-"
    }
   },
   "outputs": [
    {
     "name": "stdout",
     "output_type": "stream",
     "text": [
      "<class 'float'>\n",
      "3.1415\n"
     ]
    }
   ],
   "source": [
    "x = 3.1415\n",
    "print(type(x)) # The function \"type()\" returns the datatype of the variable that was passed to it\n",
    "print(x)"
   ]
  },
  {
   "cell_type": "markdown",
   "metadata": {
    "slideshow": {
     "slide_type": "fragment"
    }
   },
   "source": [
    "Floats can also be written in scientific notation:"
   ]
  },
  {
   "cell_type": "code",
   "execution_count": 3,
   "metadata": {
    "slideshow": {
     "slide_type": "-"
    }
   },
   "outputs": [
    {
     "name": "stdout",
     "output_type": "stream",
     "text": [
      "40800000000.0\n"
     ]
    }
   ],
   "source": [
    "x = 4.08E+10\n",
    "print(x)"
   ]
  },
  {
   "cell_type": "markdown",
   "metadata": {
    "slideshow": {
     "slide_type": "fragment"
    }
   },
   "source": [
    "Python automatically converts between these types, if necessary, so you don't have to worry too much about it (for now).\n",
    "The differences between these datatypes will be explained in later sections.\n",
    "Important to know, is that integers generally take much less memory space than floats (which gets critical as soon as we work with big data (satellite data))"
   ]
  },
  {
   "cell_type": "markdown",
   "metadata": {
    "slideshow": {
     "slide_type": "slide"
    }
   },
   "source": [
    "Variable assignments can be done \"simultaneously\" on more than one variable :"
   ]
  },
  {
   "cell_type": "code",
   "execution_count": 47,
   "metadata": {
    "slideshow": {
     "slide_type": "-"
    }
   },
   "outputs": [
    {
     "name": "stdout",
     "output_type": "stream",
     "text": [
      "1 4.78 Geographie\n"
     ]
    }
   ],
   "source": [
    "x, y, z = 1, 4.78, \"Geographie\"\n",
    "print(x,y,z)      # The function \"print()\" accepts multiple arguments and prints them out separated by a \" \" (blank space)"
   ]
  },
  {
   "cell_type": "markdown",
   "metadata": {
    "slideshow": {
     "slide_type": "fragment"
    }
   },
   "source": [
    "Variables can also be assigned to each other. When one variable is assigned to another variable, that means that it points to the same space in memory."
   ]
  },
  {
   "cell_type": "code",
   "execution_count": 27,
   "metadata": {
    "slideshow": {
     "slide_type": "-"
    }
   },
   "outputs": [
    {
     "name": "stdout",
     "output_type": "stream",
     "text": [
      "10 10\n"
     ]
    }
   ],
   "source": [
    "x = 42 # x points to the object 42 in memory\n",
    "y = 10 # y points to the object 10 in memory\n",
    "\n",
    "x = y  # x now also points to the object 10 in memory\n",
    "print(x, y)"
   ]
  },
  {
   "cell_type": "markdown",
   "metadata": {
    "slideshow": {
     "slide_type": "slide"
    }
   },
   "source": [
    "When one variable is changed, other variables are not affected:"
   ]
  },
  {
   "cell_type": "code",
   "execution_count": 57,
   "metadata": {
    "slideshow": {
     "slide_type": "-"
    }
   },
   "outputs": [
    {
     "name": "stdout",
     "output_type": "stream",
     "text": [
      "10 99\n"
     ]
    }
   ],
   "source": [
    "x = 42 # x points to the object 42 in memory\n",
    "y = 10 # y points to the object 10 in memory\n",
    "\n",
    "x = y  # x now also points to the object 10 in memory\n",
    "y = 99 # y now points to the object 99 in memory, x is not affected\n",
    "print(x, y)"
   ]
  },
  {
   "cell_type": "markdown",
   "metadata": {
    "slideshow": {
     "slide_type": "slide"
    }
   },
   "source": [
    "Another simple datatype is the boolean datatype. It can only store two values: `True` and `False`. It is used reasonably, when a variable can only take two states, e.g. to model the state of a light switch (on and off)."
   ]
  },
  {
   "cell_type": "code",
   "execution_count": 82,
   "metadata": {
    "slideshow": {
     "slide_type": "-"
    }
   },
   "outputs": [
    {
     "name": "stdout",
     "output_type": "stream",
     "text": [
      "True\n"
     ]
    }
   ],
   "source": [
    "x = True\n",
    "print(x)"
   ]
  },
  {
   "cell_type": "markdown",
   "metadata": {
    "slideshow": {
     "slide_type": "slide"
    }
   },
   "source": [
    "**Naming conventions:** Variable names can consist of more than just one character. The following rules apply:\n",
    "\n",
    "- They must begin with a letter (a - z, A - B) or underscore (`_`)\n",
    "- Other characters can be letters, numbers or an underscore\n",
    "- They are case sensitive\n",
    "- You cannot use some reserved words as a variable name because Python uses them for other things (e.g. `def`, `str`, `print`, ...)\n",
    "- Words are normally separated by an underscore"
   ]
  },
  {
   "cell_type": "code",
   "execution_count": 58,
   "metadata": {
    "slideshow": {
     "slide_type": "skip"
    }
   },
   "outputs": [
    {
     "name": "stdout",
     "output_type": "stream",
     "text": [
      "Marie Curie\n"
     ]
    }
   ],
   "source": [
    "first_name = \"Marie\"\n",
    "last_name = \"Curie\"\n",
    "\n",
    "print(first_name,last_name)"
   ]
  },
  {
   "cell_type": "markdown",
   "metadata": {
    "slideshow": {
     "slide_type": "skip"
    }
   },
   "source": [
    "Now you know the basic datatypes of Python (string, int, float, bool). There are more complex datatypes which will be covered later."
   ]
  },
  {
   "cell_type": "markdown",
   "metadata": {
    "slideshow": {
     "slide_type": "slide"
    },
    "tags": [
     "task"
    ]
   },
   "source": [
    "**Task:**\n",
    "\n",
    "1. Create two variables called `Vorname` and  `Nachname` and assign your first/last name to them as strings.\n",
    "2. Create another variable called `Lieblingszahl` and assign it your favourite number."
   ]
  },
  {
   "cell_type": "markdown",
   "metadata": {
    "slideshow": {
     "slide_type": "slide"
    }
   },
   "source": [
    "## Arithmetic operators"
   ]
  },
  {
   "cell_type": "markdown",
   "metadata": {
    "slideshow": {
     "slide_type": "-"
    }
   },
   "source": [
    "Most statements (logical lines) that you write will contain expressions. A simple example of an expression is `5 + 9`. An expression can be broken down into operators and operands.\n",
    "\n",
    "In Python, you can use four basic operators: `+`, `-`, `*` and `/`. There are many more operators, which will be covered later.\n",
    "\n",
    "Operators perform a specific computation. They require data to operate on. Such data is called operands, in this case, `5` and `9` are the operands."
   ]
  },
  {
   "cell_type": "code",
   "execution_count": 65,
   "metadata": {
    "slideshow": {
     "slide_type": "-"
    }
   },
   "outputs": [
    {
     "data": {
      "text/plain": [
       "14"
      ]
     },
     "execution_count": 65,
     "metadata": {},
     "output_type": "execute_result"
    }
   ],
   "source": [
    "5 + 9 # This is an expression. It's return value is the result of the expression (=14 in this case)"
   ]
  },
  {
   "cell_type": "markdown",
   "metadata": {
    "slideshow": {
     "slide_type": "slide"
    }
   },
   "source": [
    "You can also use `+` between strings, which just appends the first to the second:"
   ]
  },
  {
   "cell_type": "code",
   "execution_count": 97,
   "metadata": {
    "slideshow": {
     "slide_type": "-"
    }
   },
   "outputs": [
    {
     "data": {
      "text/plain": [
       "'Python'"
      ]
     },
     "execution_count": 97,
     "metadata": {},
     "output_type": "execute_result"
    }
   ],
   "source": [
    "a = \"Py\"\n",
    "b = \"thon\"\n",
    "\n",
    "a+b"
   ]
  },
  {
   "cell_type": "markdown",
   "metadata": {
    "slideshow": {
     "slide_type": "fragment"
    }
   },
   "source": [
    "Normally expressions are assigned to variables:"
   ]
  },
  {
   "cell_type": "code",
   "execution_count": 98,
   "metadata": {
    "slideshow": {
     "slide_type": "-"
    }
   },
   "outputs": [
    {
     "data": {
      "text/plain": [
       "42.0"
      ]
     },
     "execution_count": 98,
     "metadata": {},
     "output_type": "execute_result"
    }
   ],
   "source": [
    "meine_lieblingszahl = 9 - 5 + 4 - 10 * 4 / 8 + 39\n",
    "meine_lieblingszahl"
   ]
  },
  {
   "cell_type": "markdown",
   "metadata": {
    "slideshow": {
     "slide_type": "slide"
    }
   },
   "source": [
    "You can also use brackets:"
   ]
  },
  {
   "cell_type": "code",
   "execution_count": 78,
   "metadata": {
    "slideshow": {
     "slide_type": "-"
    }
   },
   "outputs": [
    {
     "name": "stdout",
     "output_type": "stream",
     "text": [
      "18\n",
      "14\n"
     ]
    }
   ],
   "source": [
    "x = (4 + 5) * 2\n",
    "print(x)\n",
    "\n",
    "x = 4 + 5 * 2\n",
    "print(x)"
   ]
  },
  {
   "cell_type": "markdown",
   "metadata": {
    "slideshow": {
     "slide_type": "slide"
    }
   },
   "source": [
    "Of course, you can also use variables within expressions:"
   ]
  },
  {
   "cell_type": "code",
   "execution_count": 79,
   "metadata": {
    "slideshow": {
     "slide_type": "-"
    }
   },
   "outputs": [
    {
     "name": "stdout",
     "output_type": "stream",
     "text": [
      "60\n"
     ]
    }
   ],
   "source": [
    "a = 4\n",
    "b = 3\n",
    "y = a * (b + 12)\n",
    "print(y)"
   ]
  },
  {
   "cell_type": "markdown",
   "metadata": {
    "slideshow": {
     "slide_type": "slide"
    }
   },
   "source": [
    "And you can use one variable on the left- and righthand side of an expression. The right side gets evaluated (as always) and the result is written to the variable on the left side (as always):"
   ]
  },
  {
   "cell_type": "code",
   "execution_count": 3,
   "metadata": {
    "slideshow": {
     "slide_type": "-"
    }
   },
   "outputs": [
    {
     "name": "stdout",
     "output_type": "stream",
     "text": [
      "15\n"
     ]
    }
   ],
   "source": [
    "x = 10\n",
    "x = x + 5\n",
    "print(x)"
   ]
  },
  {
   "cell_type": "markdown",
   "metadata": {
    "slideshow": {
     "slide_type": "slide"
    },
    "tags": [
     "task"
    ]
   },
   "source": [
    "**Task:**\n",
    "\n",
    "1. Let Python calculate the sum of 44 and 124 and divide the result by 76 (all in one line). What is your result?\n",
    "2. Let Python calculate the product of 0.3 and 3. Is the result what you expected?"
   ]
  },
  {
   "cell_type": "markdown",
   "metadata": {
    "slideshow": {
     "slide_type": "slide"
    }
   },
   "source": [
    "## Logical operators"
   ]
  },
  {
   "cell_type": "markdown",
   "metadata": {
    "slideshow": {
     "slide_type": "-"
    }
   },
   "source": [
    "There are also logical operators, like `and`, `or` and `not`. (Again, there are some more operators but we will not cover all of them)\n",
    "\n",
    "- `and` returns `True`, if the left and right operands both result in `True`, otherwise `False`\n",
    "- `or` returns `True`, if either the left or the right operand results in `True`, otherwise `False`\n",
    "- `not` returns `True`, if the right operand results in `Flase`, otherwise `True`"
   ]
  },
  {
   "cell_type": "code",
   "execution_count": 85,
   "metadata": {
    "slideshow": {
     "slide_type": "slide"
    }
   },
   "outputs": [
    {
     "name": "stdout",
     "output_type": "stream",
     "text": [
      "True\n",
      "False\n"
     ]
    }
   ],
   "source": [
    "sun_is_shining = True\n",
    "my_friends_are_here = True\n",
    "\n",
    "i_am_happy = sun_is_shining and my_friends_are_here\n",
    "print(i_am_happy)\n",
    "\n",
    "my_friends_are_here = False\n",
    "i_am_happy = sun_is_shining and my_friends_are_here\n",
    "print(i_am_happy)"
   ]
  },
  {
   "cell_type": "markdown",
   "metadata": {
    "slideshow": {
     "slide_type": "slide"
    }
   },
   "source": [
    "Another operator is the double `==`. It is used to compare two variables and it returns `True`, if both variables have the same value, otherwise `False`:"
   ]
  },
  {
   "cell_type": "code",
   "execution_count": 100,
   "metadata": {
    "slideshow": {
     "slide_type": "-"
    }
   },
   "outputs": [
    {
     "data": {
      "text/plain": [
       "False"
      ]
     },
     "execution_count": 100,
     "metadata": {},
     "output_type": "execute_result"
    }
   ],
   "source": [
    "x = 4\n",
    "y = 3\n",
    "\n",
    "x == y"
   ]
  },
  {
   "cell_type": "markdown",
   "metadata": {
    "slideshow": {
     "slide_type": "slide"
    }
   },
   "source": [
    "You can also compare two variables/expressions using the `>` or `<` operators (and many more).\n",
    "\n",
    "A good overview over all standard operators in Python is given here: https://www.w3schools.com/python/python_operators.asp"
   ]
  },
  {
   "cell_type": "code",
   "execution_count": 1,
   "metadata": {
    "slideshow": {
     "slide_type": "-"
    }
   },
   "outputs": [
    {
     "data": {
      "text/plain": [
       "True"
      ]
     },
     "execution_count": 1,
     "metadata": {},
     "output_type": "execute_result"
    }
   ],
   "source": [
    "x = 10\n",
    "y = 5\n",
    "\n",
    "x > y"
   ]
  },
  {
   "cell_type": "markdown",
   "metadata": {
    "slideshow": {
     "slide_type": "slide"
    },
    "tags": [
     "task"
    ]
   },
   "source": [
    "**Task:**\n",
    "\n",
    "1. What is the result of the following expressions? (Try to get the correct results before checking with Python)\n",
    "    - `False and False`\n",
    "    - `True and False`\n",
    "    - `True or False`\n",
    "    - `not True`\n",
    "    - `not True and False or True`\n",
    "2. Why does the following code block return `False`?\n",
    "\n",
    "\n",
    "`a = 1.8`\n",
    "\n",
    "`b = 0.6 + 0.6 + 0.6`\n",
    "\n",
    "`a == b`"
   ]
  },
  {
   "cell_type": "markdown",
   "metadata": {
    "slideshow": {
     "slide_type": "slide"
    }
   },
   "source": [
    "## Formatted printing"
   ]
  },
  {
   "cell_type": "markdown",
   "metadata": {
    "slideshow": {
     "slide_type": "-"
    }
   },
   "source": [
    "Often, you want to print stuff to the console in a specific format. For example, you are not interested in the 10th decimal of a floating point number when you are calculating with euros and cents. For that, you can use formatted printing:"
   ]
  },
  {
   "cell_type": "code",
   "execution_count": 145,
   "metadata": {
    "slideshow": {
     "slide_type": "-"
    }
   },
   "outputs": [
    {
     "name": "stdout",
     "output_type": "stream",
     "text": [
      "321.14159265359\n",
      "321.14\n",
      "    321.14\n",
      "           5678\n"
     ]
    }
   ],
   "source": [
    "x = 321.14159265359\n",
    "y = 5678\n",
    "\n",
    "print(x)                      # prints the raw value 3.14159265359\n",
    "print(\"{0:1.2f}\".format(x))   # prints x as floating point number with min. 1 digit printed in total and max. 2 digits after the \".\"\n",
    "print(\"{0:10.2f}\".format(x))  # prints x as floating point number with min. 10 digits printed in total and max. 2 digits after the \".\". Leading zeros are not shown, only blanks.\n",
    "print(\"{0:15d}\".format(y))    # prints y as integer with min. 15 digits printed in total. Leading zeros are not shown, only blanks."
   ]
  },
  {
   "cell_type": "markdown",
   "metadata": {
    "slideshow": {
     "slide_type": "slide"
    }
   },
   "source": [
    "You can also pass multiple arguments to the format-function.\n",
    "The digit before the `:` references the index of the argument.\n",
    "Only text within `{` and `}` is interpreted:"
   ]
  },
  {
   "cell_type": "code",
   "execution_count": 144,
   "metadata": {
    "slideshow": {
     "slide_type": "-"
    }
   },
   "outputs": [
    {
     "name": "stdout",
     "output_type": "stream",
     "text": [
      "10 liters of milk cost:      10.26€.\n"
     ]
    }
   ],
   "source": [
    "x = 10.25923457\n",
    "y = 10\n",
    "z = \"milk\"\n",
    "\n",
    "print(\"{1:2d} liters of {2} cost: {0:10.2f}€.\".format(x,y,z))"
   ]
  },
  {
   "cell_type": "markdown",
   "metadata": {
    "slideshow": {
     "slide_type": "slide"
    }
   },
   "source": [
    "## Input"
   ]
  },
  {
   "cell_type": "markdown",
   "metadata": {
    "slideshow": {
     "slide_type": "-"
    }
   },
   "source": [
    "If the input(prompt)-function is called during a program run, the program sequence is stopped until the user makes an entry via the keyboard and closes it with the Return key. The string of the parameter \"prompt\" is displayed if it is passed. In this way you can show the user what he is expected to enter."
   ]
  },
  {
   "cell_type": "code",
   "execution_count": 1,
   "metadata": {
    "slideshow": {
     "slide_type": "-"
    }
   },
   "outputs": [
    {
     "name": "stdout",
     "output_type": "stream",
     "text": [
      "What is your name? Sebastian\n",
      "Hello Sebastian!\n"
     ]
    }
   ],
   "source": [
    "x = input(\"What is your name? \")\n",
    "print(\"Hello \" + x + \"!\")"
   ]
  },
  {
   "cell_type": "markdown",
   "metadata": {
    "slideshow": {
     "slide_type": "slide"
    },
    "tags": [
     "task"
    ]
   },
   "source": [
    "## Exercise 1\n",
    "\n",
    "- Complete the first assignment and push your results until tuesday 14:00 next week"
   ]
  }
 ],
 "metadata": {
  "celltoolbar": "Slideshow",
  "kernelspec": {
   "display_name": "Python 3",
   "language": "python",
   "name": "python3"
  },
  "language_info": {
   "codemirror_mode": {
    "name": "ipython",
    "version": 3
   },
   "file_extension": ".py",
   "mimetype": "text/x-python",
   "name": "python",
   "nbconvert_exporter": "python",
   "pygments_lexer": "ipython3",
   "version": "3.7.1"
  }
 },
 "nbformat": 4,
 "nbformat_minor": 2
}
