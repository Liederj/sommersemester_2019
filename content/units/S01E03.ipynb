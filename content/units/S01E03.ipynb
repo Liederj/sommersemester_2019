{
 "cells": [
  {
   "cell_type": "markdown",
   "metadata": {
    "slideshow": {
     "slide_type": "slide"
    }
   },
   "source": [
    "# Python Basics III"
   ]
  },
  {
   "cell_type": "markdown",
   "metadata": {
    "slideshow": {
     "slide_type": "-"
    }
   },
   "source": [
    "## Functions\n",
    "\n",
    "For small tasks chaining together command one by one in a script can be a viable solution but often the problem at hand consists of multiple steps and/or needs to repeated multiple times for example for different directories. Then the code will get messy pretty fast which, according to rule one of [**The Zen of Python**](https://www.python.org/dev/peps/pep-0020/), is something we want to avoid.\n",
    "\n",
    "To achive this we can use **functions** which:\n",
    "- encapsulate small snippets of code\n",
    "- can be reused any number of times\n",
    "- make our code more *modular*, less repititous and easier to maintain"
   ]
  },
  {
   "cell_type": "code",
   "execution_count": 22,
   "metadata": {
    "slideshow": {
     "slide_type": "slide"
    }
   },
   "outputs": [
    {
     "name": "stdout",
     "output_type": "stream",
     "text": [
      "Happy birthday Tom!\n"
     ]
    }
   ],
   "source": [
    "def happy_birthday():\n",
    "    print(\"Happy birthday Tom!\")\n",
    "    \n",
    "happy_birthday()"
   ]
  },
  {
   "cell_type": "markdown",
   "metadata": {
    "slideshow": {
     "slide_type": "slide"
    }
   },
   "source": [
    "Now this does not save very much code because if we wanted to congratulate Sally we would need to write another quite similar function. To make this function more generic we can use **Parameters**."
   ]
  },
  {
   "cell_type": "code",
   "execution_count": 28,
   "metadata": {
    "slideshow": {
     "slide_type": "-"
    }
   },
   "outputs": [
    {
     "name": "stdout",
     "output_type": "stream",
     "text": [
      "Happy birthday Tom!\n"
     ]
    }
   ],
   "source": [
    "def happy_birthday(name):\n",
    "    print(\"Happy birthday {}!\".format(name))\n",
    "    \n",
    "happy_birthday(name=\"Tom\")"
   ]
  },
  {
   "cell_type": "markdown",
   "metadata": {
    "slideshow": {
     "slide_type": "slide"
    }
   },
   "source": [
    "Functions can have any number of parameters which can also have a default value assigned to them, making them optional in the function call.\n",
    "Additionally a **return** value can be specified."
   ]
  },
  {
   "cell_type": "code",
   "execution_count": 32,
   "metadata": {
    "slideshow": {
     "slide_type": "-"
    }
   },
   "outputs": [
    {
     "name": "stdout",
     "output_type": "stream",
     "text": [
      "4096\n",
      "256\n"
     ]
    }
   ],
   "source": [
    "def calc_something(x, y=4):\n",
    "    return x**y\n",
    "\n",
    "print(calc_something(4, 6))\n",
    "print(calc_something(4))"
   ]
  },
  {
   "cell_type": "markdown",
   "metadata": {
    "slideshow": {
     "slide_type": "slide"
    }
   },
   "source": [
    "### Documentation\n",
    "While this is still an easy example where it's pretty clear what is done in general it is important to document functions. While normal inline comments like you already know can be used there are special \"comments\" called [**docstrings**](https://www.python.org/dev/peps/pep-0257/) which can be inserted as a first statement in a function and are a standardized way of documenting."
   ]
  },
  {
   "cell_type": "code",
   "execution_count": 33,
   "metadata": {
    "slideshow": {
     "slide_type": "-"
    }
   },
   "outputs": [],
   "source": [
    "def calc_something(x, y=4):\n",
    "    \"\"\"\n",
    "    Calculate x to the power of y.\n",
    "    \n",
    "    Parameters\n",
    "    ----------\n",
    "    x : number\n",
    "        The base\n",
    "    y : number, optional\n",
    "        The exponent, defaults to 4\n",
    "        \n",
    "    Returns\n",
    "    -------\n",
    "    number\n",
    "    \n",
    "    \"\"\"\n",
    "    return x**y"
   ]
  },
  {
   "cell_type": "markdown",
   "metadata": {
    "slideshow": {
     "slide_type": "slide"
    }
   },
   "source": [
    "The first line should contain a short one line description. Following a blank line a more detailed description of what the function is doing can be given (omitted in this example).\n",
    "\n",
    "This example uses the so called [**numpydoc**](https://numpydoc.readthedocs.io/en/latest/) style which has the advantage to be very readable. Another popular style is the [**google**](https://github.com/google/styleguide/blob/gh-pages/pyguide.md#38-comments-and-docstrings) style. The choice which one to use is up to you, just make sure you stick with that choice.\n",
    "\n",
    "Documenting can be a lot of work but the advantages pay off quickly:\n",
    "- for your self to remember what a certain piece of code does if you want to use it sometime in the future\n",
    "- other people who use your code understand what is done and which input is needed and what is returned\n",
    "\n",
    "So it is a good habit to document code right when it is written even though sometimes it can be tempting to do it later."
   ]
  },
  {
   "cell_type": "markdown",
   "metadata": {
    "slideshow": {
     "slide_type": "slide"
    }
   },
   "source": [
    "### Built in functions\n",
    "\n",
    "Python has many built in functions which solve common problems and are faster than if we would implement those on our own. Often, the purpose of these functions is clear on first sight. For example `min()`, `max()` or `sum()` are pretty self-explanatory, but there are also some more complex functions."
   ]
  },
  {
   "cell_type": "markdown",
   "metadata": {
    "slideshow": {
     "slide_type": "slide"
    },
    "tags": [
     "task"
    ]
   },
   "source": [
    "**Task:**\n",
    "1. Go to the official [Python documentation](https://docs.python.org/3.4/library/functions.html) or use a search engine of your choice and have a look at the follwoing built in functions:\n",
    "     - any\n",
    "     - enumerate\n",
    "     - map\n",
    "   \n",
    "   Find out what they do and try them out.\n",
    "2. Rewrite the following loop using the `map` function.\n",
    "```Python\n",
    "numbers = [1, 2, 3, 4, 5, 6, 7, 8, 9, 10, 11, 12, 13, 14, 15]\n",
    "for i, num in enumerate(numbers):\n",
    "        numbers[i] = numbers[i]**2 + 5\n",
    "```"
   ]
  },
  {
   "cell_type": "markdown",
   "metadata": {
    "slideshow": {
     "slide_type": "slide"
    }
   },
   "source": [
    "## Variable scope - global vs. local\n",
    "\n",
    "Let's say we define the following:"
   ]
  },
  {
   "cell_type": "code",
   "execution_count": 1,
   "metadata": {
    "slideshow": {
     "slide_type": "-"
    }
   },
   "outputs": [],
   "source": [
    "a = \"Foo\"\n",
    "\n",
    "def very_usefull_function():\n",
    "    print(a)"
   ]
  },
  {
   "cell_type": "markdown",
   "metadata": {
    "slideshow": {
     "slide_type": "fragment"
    }
   },
   "source": [
    "What will happen if we call `very_usefull_function()`?"
   ]
  },
  {
   "cell_type": "code",
   "execution_count": 2,
   "metadata": {
    "slideshow": {
     "slide_type": "-"
    }
   },
   "outputs": [
    {
     "name": "stdout",
     "output_type": "stream",
     "text": [
      "Foo\n"
     ]
    }
   ],
   "source": [
    "very_usefull_function()"
   ]
  },
  {
   "cell_type": "markdown",
   "metadata": {
    "slideshow": {
     "slide_type": "slide"
    }
   },
   "source": [
    "Now consider the following change to the function and think about what will happen when we first call the function and then print out `a` again afterwards."
   ]
  },
  {
   "cell_type": "code",
   "execution_count": 3,
   "metadata": {
    "slideshow": {
     "slide_type": "-"
    }
   },
   "outputs": [],
   "source": [
    "a = \"Foo\"\n",
    "\n",
    "def very_usefull_function():\n",
    "    a = \"Bar\"\n",
    "    print(a)"
   ]
  },
  {
   "cell_type": "code",
   "execution_count": 4,
   "metadata": {
    "slideshow": {
     "slide_type": "fragment"
    }
   },
   "outputs": [
    {
     "name": "stdout",
     "output_type": "stream",
     "text": [
      "Bar\n",
      "Foo\n"
     ]
    }
   ],
   "source": [
    "very_usefull_function()\n",
    "print(a)"
   ]
  },
  {
   "cell_type": "markdown",
   "metadata": {
    "slideshow": {
     "slide_type": "slide"
    }
   },
   "source": [
    "This shows the difference between global and local variables. \n",
    "\n",
    "While we can access global variables within functions, they can not be changed by default. A variable with the same name inside a function is a local variable and will always take precedence over global variables. It exists only in the scope of this function.\n",
    "In generall it is possible to change the value of a global variable from inside a function but since accessing a global variable from inside a function is considered bad practice and hence trying to change it even worse we neglect that possibility altogether."
   ]
  },
  {
   "cell_type": "markdown",
   "metadata": {
    "slideshow": {
     "slide_type": "slide"
    }
   },
   "source": [
    "### Constants\n",
    "Often in other programming languages special variables can be defined which can not be changed and therefore be used for constants for example. In Python this is not possible. So a widely used convention is to mark constants with all upper case variable names."
   ]
  },
  {
   "cell_type": "code",
   "execution_count": 38,
   "metadata": {
    "slideshow": {
     "slide_type": "-"
    }
   },
   "outputs": [],
   "source": [
    "SPEED_OF_LIGHT = 1080000000 #km/h"
   ]
  },
  {
   "cell_type": "markdown",
   "metadata": {
    "slideshow": {
     "slide_type": "slide"
    }
   },
   "source": [
    "## Python modules\n",
    "\n",
    "When you write larger scripts, it makes sense to split your code into multiple files so that you do not lose track of all your functions. You may also want to use a handy function that you've written in several programs without copying its definition into each program.\n",
    "\n",
    "To support this, Python has a way to put definitions in one file and use them in another script. Such a file is called a module. Definitions from one module can be imported into other modules or into the main module.\n",
    "\n",
    "A module is a file containing Python definitions and statements. The file name is the module name with the suffix .py appended."
   ]
  },
  {
   "cell_type": "markdown",
   "metadata": {
    "slideshow": {
     "slide_type": "slide"
    }
   },
   "source": [
    "### The import system\n",
    "\n",
    "Lets say, we defined the following function (to print the Fibonacci numbers) in the file \"fibo.py\":"
   ]
  },
  {
   "cell_type": "code",
   "execution_count": 1,
   "metadata": {
    "slideshow": {
     "slide_type": "-"
    }
   },
   "outputs": [],
   "source": [
    "def fibonacci(n):\n",
    "    a, b = 0, 1\n",
    "    while a < n:\n",
    "        print(a, end=' ')\n",
    "        a, b = b, a+b\n",
    "    print()"
   ]
  },
  {
   "cell_type": "markdown",
   "metadata": {
    "slideshow": {
     "slide_type": "slide"
    }
   },
   "source": [
    "Now we want to use this function in another script. To import the definitions from a module into a script, you can use the `import` statement:"
   ]
  },
  {
   "cell_type": "code",
   "execution_count": 2,
   "metadata": {
    "slideshow": {
     "slide_type": "-"
    }
   },
   "outputs": [
    {
     "name": "stdout",
     "output_type": "stream",
     "text": [
      "0 1 1 2 3 5 8 13 21 34 55 89 \n"
     ]
    }
   ],
   "source": [
    "import fibo # Import the fibo-module (fibo.py)\n",
    "\n",
    "fibo.fibonacci(90) # Use the fibonacci function from the fibo module"
   ]
  },
  {
   "cell_type": "markdown",
   "metadata": {
    "slideshow": {
     "slide_type": "fragment"
    }
   },
   "source": [
    "You can also assign an alias to the imported module via:"
   ]
  },
  {
   "cell_type": "code",
   "execution_count": 3,
   "metadata": {
    "slideshow": {
     "slide_type": "-"
    }
   },
   "outputs": [
    {
     "name": "stdout",
     "output_type": "stream",
     "text": [
      "0 1 1 2 3 5 8 13 21 34 55 89 \n"
     ]
    }
   ],
   "source": [
    "import fibo as fb\n",
    "\n",
    "fb.fibonacci(90)"
   ]
  },
  {
   "cell_type": "markdown",
   "metadata": {
    "slideshow": {
     "slide_type": "-"
    }
   },
   "source": [
    "This is common practice as module names are sometimes long and coders like short module names in their code."
   ]
  },
  {
   "cell_type": "markdown",
   "metadata": {
    "slideshow": {
     "slide_type": "slide"
    },
    "tags": [
     "info"
    ]
   },
   "source": [
    "Sometimes you will see something like\n",
    "\n",
    "```Python\n",
    "from fibo import *\n",
    "```\n",
    "which would import all functions from the fibo module. This is considered bad practice because it is not concrete and specific (it violates rule 2 of the [**The Zen of Python**](https://www.python.org/dev/peps/pep-0020/) ;-) ) and should not be done."
   ]
  },
  {
   "cell_type": "markdown",
   "metadata": {
    "slideshow": {
     "slide_type": "skip"
    }
   },
   "source": [
    "There are many modules with usefull functions out there which can be installed and used similarly to the way with our own modules shown above. We get to know some of the most common ones in later chapters of the course."
   ]
  },
  {
   "cell_type": "markdown",
   "metadata": {
    "slideshow": {
     "slide_type": "slide"
    },
    "tags": [
     "task"
    ]
   },
   "source": [
    "**Task:**\n",
    "\n",
    "1. Write a function `add5(x)` that adds 5 to the given number `x` and returns the result. Save this function in the file \"mathe.py\" in your home folder.\n",
    "2. Start an interactive python shell in your home folder.\n",
    "3. Import the function `add5(x)`, call it with some random arguments and print the results.\n",
    "4. Try out \"import this\"."
   ]
  },
  {
   "cell_type": "markdown",
   "metadata": {
    "slideshow": {
     "slide_type": "slide"
    }
   },
   "source": [
    "## Errors and Exceptions"
   ]
  },
  {
   "cell_type": "markdown",
   "metadata": {
    "slideshow": {
     "slide_type": "-"
    }
   },
   "source": [
    "When an error occurs in Python, it will stop and generate an error message.\n",
    "This happens, e.g., when you try to read a non-existing or corrupt file:"
   ]
  },
  {
   "cell_type": "code",
   "execution_count": 5,
   "metadata": {
    "slideshow": {
     "slide_type": "-"
    }
   },
   "outputs": [
    {
     "ename": "FileNotFoundError",
     "evalue": "[Errno 2] No such file or directory: 'non_existing_file.txt'",
     "output_type": "error",
     "traceback": [
      "\u001b[0;31m---------------------------------------------------------------------------\u001b[0m",
      "\u001b[0;31mFileNotFoundError\u001b[0m                         Traceback (most recent call last)",
      "\u001b[0;32m<ipython-input-5-22886e32afac>\u001b[0m in \u001b[0;36m<module>\u001b[0;34m()\u001b[0m\n\u001b[0;32m----> 1\u001b[0;31m \u001b[0mopen\u001b[0m\u001b[0;34m(\u001b[0m\u001b[0;34m\"non_existing_file.txt\"\u001b[0m\u001b[0;34m)\u001b[0m\u001b[0;34m\u001b[0m\u001b[0;34m\u001b[0m\u001b[0m\n\u001b[0m",
      "\u001b[0;31mFileNotFoundError\u001b[0m: [Errno 2] No such file or directory: 'non_existing_file.txt'"
     ]
    }
   ],
   "source": [
    "open(\"non_existing_file.txt\")"
   ]
  },
  {
   "cell_type": "markdown",
   "metadata": {
    "slideshow": {
     "slide_type": "slide"
    }
   },
   "source": [
    "These errors (or \"exceptions\") can be handled using the try statement:"
   ]
  },
  {
   "cell_type": "code",
   "execution_count": 6,
   "metadata": {
    "slideshow": {
     "slide_type": "-"
    }
   },
   "outputs": [
    {
     "name": "stdout",
     "output_type": "stream",
     "text": [
      "An error occurred when I tried to open the file.\n",
      "But that's not a big deal because the program continues to run...\n"
     ]
    }
   ],
   "source": [
    "try:\n",
    "    open(\"non_existing_file.txt\")\n",
    "except:\n",
    "    print(\"An error occurred when I tried to open the file.\")\n",
    "    \n",
    "print(\"But that's not a big deal because the program continues to run...\")"
   ]
  },
  {
   "cell_type": "markdown",
   "metadata": {
    "slideshow": {
     "slide_type": "fragment"
    }
   },
   "source": [
    "- The try block lets you test a block of code for errors.\n",
    "- The except block lets you handle the error. After completion of this block, the program doesn't stop but continues to run."
   ]
  },
  {
   "cell_type": "markdown",
   "metadata": {
    "slideshow": {
     "slide_type": "slide"
    },
    "tags": [
     "task"
    ]
   },
   "source": [
    "**Task:**\n",
    "\n",
    "1. Re-write your add5(x)-Function so that it does not kill the program when a wrong argument is passed (e.g. a string like \"zehn\")\n",
    "2. Inform the caller of the function about a raised exception so that she/he can react accordingly."
   ]
  },
  {
   "cell_type": "markdown",
   "metadata": {
    "slideshow": {
     "slide_type": "slide"
    }
   },
   "source": [
    "## Exercise 3\n",
    "\n",
    "- Complete the third assignment and push your results until tuesday 14:00 next week"
   ]
  }
 ],
 "metadata": {
  "celltoolbar": "Slideshow",
  "kernelspec": {
   "display_name": "Python 3",
   "language": "python",
   "name": "python3"
  },
  "language_info": {
   "codemirror_mode": {
    "name": "ipython",
    "version": 3
   },
   "file_extension": ".py",
   "mimetype": "text/x-python",
   "name": "python",
   "nbconvert_exporter": "python",
   "pygments_lexer": "ipython3",
   "version": "3.7.1"
  }
 },
 "nbformat": 4,
 "nbformat_minor": 2
}
