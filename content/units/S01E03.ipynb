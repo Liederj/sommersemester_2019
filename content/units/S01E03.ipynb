{
 "cells": [
  {
   "cell_type": "markdown",
   "metadata": {},
   "source": [
    "# Python Basics III"
   ]
  },
  {
   "cell_type": "markdown",
   "metadata": {},
   "source": [
    "## Dictionaries\n",
    "\n",
    "Another useful datatype are dictionaries. In contrast to lists, where you have to keep track of a specific index to be able to access a certain value, dictionaries use keywords.\n",
    "A dictionary can be created by using curly braces *{}* and each element in it is a **key : value** pair."
   ]
  },
  {
   "cell_type": "code",
   "execution_count": 10,
   "metadata": {},
   "outputs": [],
   "source": [
    "kitchen_supplies = {\"pans\": 3, \"pots\": 4, \"knives\": 10, \"spoons\": 12, \"forks\": 6}"
   ]
  },
  {
   "cell_type": "markdown",
   "metadata": {},
   "source": [
    "Accessing values is done by specifying the name of the key:"
   ]
  },
  {
   "cell_type": "code",
   "execution_count": 3,
   "metadata": {},
   "outputs": [
    {
     "data": {
      "text/plain": [
       "10"
      ]
     },
     "execution_count": 3,
     "metadata": {},
     "output_type": "execute_result"
    }
   ],
   "source": [
    "kitchen_supplies[\"knives\"]"
   ]
  },
  {
   "cell_type": "markdown",
   "metadata": {},
   "source": [
    "While in this example strings were used as keys and integers used as values this is not a neccessity. Any datatype can be used for values but the keys can only be of immutable type (meaning types which can not be changed afterwards like strings and numbers) and have to be unique. So a list can not be a key but can be a value.\n",
    "\n",
    "Like lists dictionaries have some built in methods (functions) which are usefull like:\n",
    "\n",
    "Checking if a key exists in the dictionary"
   ]
  },
  {
   "cell_type": "code",
   "execution_count": 5,
   "metadata": {},
   "outputs": [
    {
     "data": {
      "text/plain": [
       "False"
      ]
     },
     "execution_count": 5,
     "metadata": {},
     "output_type": "execute_result"
    }
   ],
   "source": [
    "\"mixer\" in kitchen_supplies"
   ]
  },
  {
   "cell_type": "markdown",
   "metadata": {},
   "source": [
    "Remove an item while returning the value at the same time."
   ]
  },
  {
   "cell_type": "code",
   "execution_count": 11,
   "metadata": {},
   "outputs": [
    {
     "name": "stdout",
     "output_type": "stream",
     "text": [
      "{'pots': 4, 'knives': 10, 'spoons': 12, 'forks': 6}\n",
      "3\n"
     ]
    }
   ],
   "source": [
    "num_pans = kitchen_supplies.pop(\"pans\")\n",
    "print(kitchen_supplies)\n",
    "print(num_pans)"
   ]
  },
  {
   "cell_type": "markdown",
   "metadata": {},
   "source": [
    "If you try to pop an element which does not exist an error will the thrown. Fortunately the pop method accepts a second argument where a default return value can be specified"
   ]
  },
  {
   "cell_type": "code",
   "execution_count": 8,
   "metadata": {},
   "outputs": [
    {
     "ename": "KeyError",
     "evalue": "'mixer'",
     "output_type": "error",
     "traceback": [
      "\u001b[0;31m---------------------------------------------------------------------------\u001b[0m",
      "\u001b[0;31mKeyError\u001b[0m                                  Traceback (most recent call last)",
      "\u001b[0;32m<ipython-input-8-b62981f981c6>\u001b[0m in \u001b[0;36m<module>\u001b[0;34m\u001b[0m\n\u001b[0;32m----> 1\u001b[0;31m \u001b[0mkitchen_supplies\u001b[0m\u001b[0;34m.\u001b[0m\u001b[0mpop\u001b[0m\u001b[0;34m(\u001b[0m\u001b[0;34m\"mixer\"\u001b[0m\u001b[0;34m)\u001b[0m\u001b[0;34m\u001b[0m\u001b[0;34m\u001b[0m\u001b[0m\n\u001b[0m",
      "\u001b[0;31mKeyError\u001b[0m: 'mixer'"
     ]
    }
   ],
   "source": [
    "kitchen_supplies.pop(\"mixer\")"
   ]
  },
  {
   "cell_type": "code",
   "execution_count": 12,
   "metadata": {},
   "outputs": [
    {
     "data": {
      "text/plain": [
       "0"
      ]
     },
     "execution_count": 12,
     "metadata": {},
     "output_type": "execute_result"
    }
   ],
   "source": [
    "kitchen_supplies.pop(\"mixer\", 0)"
   ]
  },
  {
   "cell_type": "markdown",
   "metadata": {},
   "source": [
    "Get a list of all keys, values or items in the dictionary which you can loop over"
   ]
  },
  {
   "cell_type": "code",
   "execution_count": 17,
   "metadata": {},
   "outputs": [
    {
     "name": "stdout",
     "output_type": "stream",
     "text": [
      "dict_keys(['pots', 'knives', 'spoons', 'forks'])\n",
      "dict_values([4, 10, 12, 6])\n",
      "dict_items([('pots', 4), ('knives', 10), ('spoons', 12), ('forks', 6)])\n"
     ]
    }
   ],
   "source": [
    "print(kitchen_supplies.keys())\n",
    "print(kitchen_supplies.values())\n",
    "print(kitchen_supplies.items())"
   ]
  },
  {
   "cell_type": "code",
   "execution_count": 18,
   "metadata": {},
   "outputs": [
    {
     "name": "stdout",
     "output_type": "stream",
     "text": [
      "There are 4 pots in the kitchen\n",
      "There are 10 knives in the kitchen\n",
      "There are 12 spoons in the kitchen\n",
      "There are 6 forks in the kitchen\n"
     ]
    }
   ],
   "source": [
    "for key, val in kitchen_supplies.items():\n",
    "    print(\"There are {} {} in the kitchen\".format(val, key))"
   ]
  },
  {
   "cell_type": "markdown",
   "metadata": {},
   "source": [
    "Similarly there is a **get** method which can be used to access values. The advantage over just using the **[ ]** method to access values is that the *get* method can return a default value when you are trying to access elements which do not exist while the square brackets give an error which can be usefull if you don't know in advance if an element exists or not."
   ]
  },
  {
   "cell_type": "code",
   "execution_count": 20,
   "metadata": {},
   "outputs": [
    {
     "data": {
      "text/plain": [
       "4"
      ]
     },
     "execution_count": 20,
     "metadata": {},
     "output_type": "execute_result"
    }
   ],
   "source": [
    "kitchen_supplies.get(\"pots\")"
   ]
  },
  {
   "cell_type": "markdown",
   "metadata": {},
   "source": [
    "## Functions\n",
    "\n",
    "For small tasks chaining together command one by one in a script can be a viable solution but often the problem at hand consists of multiple steps and/or needs to repeated multiple times for example for different directories. Then the code will get messy pretty fast which, according to rule one of [**The Zen of Python**](https://www.python.org/dev/peps/pep-0020/), is something we want to avoid.\n",
    "\n",
    "To achive this we can use **functions** which:\n",
    "- encapsulate small snippets of code\n",
    "- can be reused any number of times\n",
    "- make our code more *modular*, less repititous and easier to maintain"
   ]
  },
  {
   "cell_type": "code",
   "execution_count": 22,
   "metadata": {},
   "outputs": [
    {
     "name": "stdout",
     "output_type": "stream",
     "text": [
      "Happy birthday Tom!\n"
     ]
    }
   ],
   "source": [
    "def happy_birthday():\n",
    "    print(\"Happy birthday Tom!\")\n",
    "    \n",
    "happy_birthday()"
   ]
  },
  {
   "cell_type": "markdown",
   "metadata": {},
   "source": [
    "Now this does not save very much code because if we wanted to congratulate Sally we would need to write another quite similar function. To make this function more generic we can use **Parameters**."
   ]
  },
  {
   "cell_type": "code",
   "execution_count": 28,
   "metadata": {},
   "outputs": [
    {
     "name": "stdout",
     "output_type": "stream",
     "text": [
      "Happy birthday Tom!\n"
     ]
    }
   ],
   "source": [
    "def happy_birthday(name):\n",
    "    print(\"Happy birthday {}!\".format(name))\n",
    "    \n",
    "happy_birthday(name=\"Tom\")"
   ]
  },
  {
   "cell_type": "markdown",
   "metadata": {},
   "source": [
    "Functions can have any number of parameters which can also have a default value assigned to them makeing them optional in the function call.\n",
    "Additionally a **return** value can be specified."
   ]
  },
  {
   "cell_type": "code",
   "execution_count": 32,
   "metadata": {},
   "outputs": [
    {
     "name": "stdout",
     "output_type": "stream",
     "text": [
      "4096\n",
      "256\n"
     ]
    }
   ],
   "source": [
    "def calc_something(x, y=4):\n",
    "    return x**y\n",
    "\n",
    "print(calc_something(4, 6))\n",
    "print(calc_something(4))"
   ]
  },
  {
   "cell_type": "markdown",
   "metadata": {},
   "source": [
    "### Documentation\n",
    "While this is still an easy example where it's pretty clear what is done in general it is important to document functions. While normal inline comments like you already know can be used there are special \"comments\" called [**docstrings**](https://www.python.org/dev/peps/pep-0257/) which can be inserted as a first statement in a function and are a standardized way of documenting."
   ]
  },
  {
   "cell_type": "code",
   "execution_count": 33,
   "metadata": {},
   "outputs": [],
   "source": [
    "def calc_something(x, y=4):\n",
    "    \"\"\"\n",
    "    Calculate x to the power of y.\n",
    "    \n",
    "    Parameters\n",
    "    ----------\n",
    "    x : number\n",
    "        The base\n",
    "    y : number, optional\n",
    "        The exponent, defaults to 4\n",
    "        \n",
    "    Returns\n",
    "    -------\n",
    "    number\n",
    "    \n",
    "    \"\"\"\n",
    "    return x**y"
   ]
  },
  {
   "cell_type": "markdown",
   "metadata": {},
   "source": [
    "The first line should contain a short one line description. Following a blank line a more detailed description of what the function is doing can be given (omitted in this example).\n",
    "\n",
    "This example uses the so called [*numpydoc*](https://numpydoc.readthedocs.io/en/latest/) style which has the advantage to be very readable. Another popular style is the [*google*](https://github.com/google/styleguide/blob/gh-pages/pyguide.md#38-comments-and-docstrings) style. The choice which one to use is up to you, just make sure you stick with that choice.\n",
    "\n",
    "Documenting can be a lot of work but the advantages pay of quickly:\n",
    "- for your self to remember what a certain piece of code does if you want to use it sometime in the future\n",
    "- other people who use your code understand what is done and which input is needed and what is returned\n",
    "\n",
    "So it is a good habit to document code right when it is written even though sometimes it can be tempting to do it later."
   ]
  },
  {
   "cell_type": "markdown",
   "metadata": {},
   "source": [
    "### Built in functions\n",
    "\n",
    "Python has many built in functions which solve common problems and are fastern than if we would implement those on our own. Often the purpose of the function is clear on first sight for example \"min\", \"max\" or \"sum\", but there are also some more complex functions."
   ]
  },
  {
   "cell_type": "markdown",
   "metadata": {
    "tags": [
     "task"
    ]
   },
   "source": [
    "**Task:**\n",
    "1. Go to the official [Python documentation](https://docs.python.org/3.4/library/functions.html) or use a search engine of your choice and have a look at the built in functions like:\n",
    "     - any\n",
    "     - all\n",
    "     - sorted\n",
    "     - set\n",
    "     - zip\n",
    "     - enumerate\n",
    "   \n",
    "   Find out what they do and make sure you try them out.\n",
    "2. Rewrite the following loop using the \"map\" function.\n",
    "```Python\n",
    ">>> numbers = [1, 2, 3, 4, 5, 6, 7, 8, 10, 11, 12, 13, 14, 15]\n",
    ">>> for i, num in enumerate(numbers):\n",
    ">>>    numbers[i] = numbers[i]**2 + 5\n",
    "```"
   ]
  },
  {
   "cell_type": "markdown",
   "metadata": {},
   "source": [
    "## Variable scope - global vs. local\n",
    "\n",
    "Let's say we define the following:"
   ]
  },
  {
   "cell_type": "code",
   "execution_count": 34,
   "metadata": {},
   "outputs": [],
   "source": [
    "a = \"Foo\"\n",
    "\n",
    "def very_usefull_function():\n",
    "    print(a)"
   ]
  },
  {
   "cell_type": "markdown",
   "metadata": {},
   "source": [
    "What will happen if we call \"very_usefull_function\"?"
   ]
  },
  {
   "cell_type": "code",
   "execution_count": 35,
   "metadata": {},
   "outputs": [
    {
     "name": "stdout",
     "output_type": "stream",
     "text": [
      "Foo\n"
     ]
    }
   ],
   "source": [
    "very_usefull_function()"
   ]
  },
  {
   "cell_type": "markdown",
   "metadata": {},
   "source": [
    "Now consider the following change to the function and think about what will happen when we first call the function and then print out \"a\" again afterwards."
   ]
  },
  {
   "cell_type": "code",
   "execution_count": 36,
   "metadata": {},
   "outputs": [],
   "source": [
    "def very_usefull_function():\n",
    "    a = \"Bar\"\n",
    "    print(a)"
   ]
  },
  {
   "cell_type": "code",
   "execution_count": 37,
   "metadata": {},
   "outputs": [
    {
     "name": "stdout",
     "output_type": "stream",
     "text": [
      "Bar\n",
      "Foo\n"
     ]
    }
   ],
   "source": [
    "very_usefull_function()\n",
    "print(a)"
   ]
  },
  {
   "cell_type": "markdown",
   "metadata": {},
   "source": [
    "This shows the difference between global and local variables. While we can access global variables inside of functions they can, by default, not be changed. A variable with the same name inside the function is a local variable and will always take precedence over global variables. It exists only in the scope of this function.\n",
    "In generall it is possible to change the value of a global variable from inside a function but since accessing a global variable from inside a function is considered bad practice and hence trying to change it even worse we neglect that possibility altogether."
   ]
  },
  {
   "cell_type": "markdown",
   "metadata": {},
   "source": [
    "### Constants\n",
    "Often in other programming languages special variables can be defined which can not be changed and therefore be used for constants for example. In Python this is not possible. So a widely used convention is to mark constants with all upper case variable names."
   ]
  },
  {
   "cell_type": "code",
   "execution_count": 38,
   "metadata": {},
   "outputs": [],
   "source": [
    "SPEED_OF_LIGHT = 1080000000 #km/h"
   ]
  },
  {
   "cell_type": "markdown",
   "metadata": {
    "slideshow": {
     "slide_type": "slide"
    }
   },
   "source": [
    "## Python modules\n",
    "\n",
    "When you write larger scripts, it makes sense to split your code into multiple files so that you do not lose track of all your functions. You may also want to use a handy function that you've written in several programs without copying its definition into each program.\n",
    "\n",
    "To support this, Python has a way to put definitions in one file and use them in another script. Such a file is called a module. Definitions from one module can be imported into other modules or into the main module.\n",
    "\n",
    "A module is a file containing Python definitions and statements. The file name is the module name with the suffix .py appended."
   ]
  },
  {
   "cell_type": "markdown",
   "metadata": {
    "slideshow": {
     "slide_type": "slide"
    }
   },
   "source": [
    "### The import system\n",
    "\n",
    "Lets say, we defined the following function (to print the Fibonacci numbers) in the file \"fibo.py\":"
   ]
  },
  {
   "cell_type": "code",
   "execution_count": 1,
   "metadata": {
    "slideshow": {
     "slide_type": "-"
    }
   },
   "outputs": [],
   "source": [
    "def fibonacci(n):\n",
    "    a, b = 0, 1\n",
    "    while a < n:\n",
    "        print(a, end=' ')\n",
    "        a, b = b, a+b\n",
    "    print()"
   ]
  },
  {
   "cell_type": "markdown",
   "metadata": {
    "slideshow": {
     "slide_type": "slide"
    }
   },
   "source": [
    "Now we want to use this function in another script. To import the definitions from a module into a script, you can use the `import` statement:"
   ]
  },
  {
   "cell_type": "code",
   "execution_count": 2,
   "metadata": {
    "slideshow": {
     "slide_type": "-"
    }
   },
   "outputs": [
    {
     "name": "stdout",
     "output_type": "stream",
     "text": [
      "0 1 1 2 3 5 8 13 21 34 55 89 \n"
     ]
    }
   ],
   "source": [
    "import fibo # Import the fibo-module (fibo.py)\n",
    "\n",
    "fibo.fibonacci(90) # Use the fibonacci function from the fibo module"
   ]
  },
  {
   "cell_type": "markdown",
   "metadata": {
    "slideshow": {
     "slide_type": "fragment"
    }
   },
   "source": [
    "You can also assign an alias to the imported module via:"
   ]
  },
  {
   "cell_type": "code",
   "execution_count": 3,
   "metadata": {
    "slideshow": {
     "slide_type": "-"
    }
   },
   "outputs": [
    {
     "name": "stdout",
     "output_type": "stream",
     "text": [
      "0 1 1 2 3 5 8 13 21 34 55 89 \n"
     ]
    }
   ],
   "source": [
    "import fibo as fb\n",
    "\n",
    "fb.fibonacci(90)"
   ]
  },
  {
   "cell_type": "markdown",
   "metadata": {
    "slideshow": {
     "slide_type": "-"
    }
   },
   "source": [
    "This is common practice as module names are sometimes long and coders like short module names in their code."
   ]
  },
  {
   "cell_type": "markdown",
   "metadata": {
    "tags": [
     "info"
    ]
   },
   "source": [
    "Sometime you will see something like\n",
    "> from fibo import *\n",
    "\n",
    "which would import all functions from the fibo module. This is considered bad practice because it is not concrete and specific (it violates rule 2 of the [**The Zen of Python**](https://www.python.org/dev/peps/pep-0020/) ;-) ) and should not be done."
   ]
  },
  {
   "cell_type": "markdown",
   "metadata": {},
   "source": [
    "There are many modules with usefull functions out there which can be installed and used similarly to the way with our own modules shown above. We get to know some of the most common ones in later chapters of the course."
   ]
  },
  {
   "cell_type": "markdown",
   "metadata": {
    "slideshow": {
     "slide_type": "slide"
    },
    "tags": [
     "task"
    ]
   },
   "source": [
    "**Task:**\n",
    "\n",
    "1. Write a function \"add5(x)\" that adds 5 to the given number `x` and returns the result. Save this function in the file \"mathe.py\" in your home folder.\n",
    "2. Start an interactive python shell in your home folder.\n",
    "3. Import the function \"add5(x)\", call it with some random arguments and print the results.\n",
    "4. Try out \"import this\"."
   ]
  },
  {
   "cell_type": "markdown",
   "metadata": {
    "slideshow": {
     "slide_type": "slide"
    }
   },
   "source": [
    "## Errors and Exceptions"
   ]
  },
  {
   "cell_type": "markdown",
   "metadata": {
    "slideshow": {
     "slide_type": "-"
    }
   },
   "source": [
    "When an error occurs in Python, it will stop and generate an error message.\n",
    "This happens, e.g., when you try to read a non-existing or corrupt file:"
   ]
  },
  {
   "cell_type": "code",
   "execution_count": 5,
   "metadata": {
    "slideshow": {
     "slide_type": "-"
    }
   },
   "outputs": [
    {
     "ename": "FileNotFoundError",
     "evalue": "[Errno 2] No such file or directory: 'non_existing_file.txt'",
     "output_type": "error",
     "traceback": [
      "\u001b[0;31m---------------------------------------------------------------------------\u001b[0m",
      "\u001b[0;31mFileNotFoundError\u001b[0m                         Traceback (most recent call last)",
      "\u001b[0;32m<ipython-input-5-22886e32afac>\u001b[0m in \u001b[0;36m<module>\u001b[0;34m()\u001b[0m\n\u001b[0;32m----> 1\u001b[0;31m \u001b[0mopen\u001b[0m\u001b[0;34m(\u001b[0m\u001b[0;34m\"non_existing_file.txt\"\u001b[0m\u001b[0;34m)\u001b[0m\u001b[0;34m\u001b[0m\u001b[0;34m\u001b[0m\u001b[0m\n\u001b[0m",
      "\u001b[0;31mFileNotFoundError\u001b[0m: [Errno 2] No such file or directory: 'non_existing_file.txt'"
     ]
    }
   ],
   "source": [
    "open(\"non_existing_file.txt\")"
   ]
  },
  {
   "cell_type": "markdown",
   "metadata": {
    "slideshow": {
     "slide_type": "slide"
    }
   },
   "source": [
    "These errors (or \"exceptions\") can be handled using the try statement:"
   ]
  },
  {
   "cell_type": "code",
   "execution_count": 6,
   "metadata": {
    "slideshow": {
     "slide_type": "-"
    }
   },
   "outputs": [
    {
     "name": "stdout",
     "output_type": "stream",
     "text": [
      "An error occurred when I tried to open the file.\n",
      "But that's not a big deal because the program continues to run...\n"
     ]
    }
   ],
   "source": [
    "try:\n",
    "    open(\"non_existing_file.txt\")\n",
    "except:\n",
    "    print(\"An error occurred when I tried to open the file.\")\n",
    "    \n",
    "print(\"But that's not a big deal because the program continues to run...\")"
   ]
  },
  {
   "cell_type": "markdown",
   "metadata": {
    "slideshow": {
     "slide_type": "fragment"
    }
   },
   "source": [
    "- The try block lets you test a block of code for errors.\n",
    "- The except block lets you handle the error. After completion of this block, the program doesn't stop but continues to run."
   ]
  },
  {
   "cell_type": "markdown",
   "metadata": {
    "slideshow": {
     "slide_type": "slide"
    },
    "tags": [
     "task"
    ]
   },
   "source": [
    "**Task:**\n",
    "\n",
    "1. Re-write your add5(x)-Function so that it does not kill the program when a wrong argument is passed (e.g. a string like \"zehn\")\n",
    "2. Inform the caller of the function about a raised exception so that she/he can react accordingly."
   ]
  },
  {
   "cell_type": "markdown",
   "metadata": {
    "slideshow": {
     "slide_type": "slide"
    }
   },
   "source": [
    "## Exercise 3\n",
    "\n",
    "- Complete the third assignment and push your results until tuesday 14:00 next week"
   ]
  }
 ],
 "metadata": {
  "celltoolbar": "Slideshow",
  "kernelspec": {
   "display_name": "Python 3",
   "language": "python",
   "name": "python3"
  },
  "language_info": {
   "codemirror_mode": {
    "name": "ipython",
    "version": 3
   },
   "file_extension": ".py",
   "mimetype": "text/x-python",
   "name": "python",
   "nbconvert_exporter": "python",
   "pygments_lexer": "ipython3",
   "version": "3.6.8"
  }
 },
 "nbformat": 4,
 "nbformat_minor": 2
}
