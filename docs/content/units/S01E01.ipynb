{
 "cells": [
  {
   "cell_type": "markdown",
   "metadata": {},
   "source": [
    "# Session 1: Introduction & Orga"
   ]
  },
  {
   "cell_type": "markdown",
   "metadata": {},
   "source": [
    "## Lecturers\n",
    "\n",
    "- Benjamin Roesner: benjamin.roesner@geo.uni-marburg.de\n",
    "- Sebastian Egli:   sebastian.egli@geo.uni-marburg.de"
   ]
  },
  {
   "cell_type": "markdown",
   "metadata": {},
   "source": [
    "## Why coding?"
   ]
  },
  {
   "cell_type": "markdown",
   "metadata": {},
   "source": [
    "<img src=\"images/S01E01/coding_superpower.jpg\" style=\"float: left\"  width=\"600\"/>"
   ]
  },
  {
   "cell_type": "markdown",
   "metadata": {},
   "source": [
    "Coding enables you to...\n",
    "- automate your processes,\n",
    "- work efficiently (especially with large data sets),\n",
    "- do exactly what you want to do!"
   ]
  },
  {
   "cell_type": "markdown",
   "metadata": {},
   "source": [
    "## Why Python?"
   ]
  },
  {
   "cell_type": "markdown",
   "metadata": {},
   "source": [
    "<img src=\"images/S01E01/python_r_development.png\" style=\"float: left\" width=\"800\"/>"
   ]
  },
  {
   "cell_type": "markdown",
   "metadata": {},
   "source": [
    "> Python is an unusual case for being both one of the **most visited** tags on Stack Overflow and one of the **fastest-growing** ones. (Incidentally, it is also accelerating! Its year-over-year growth has become faster each year since 2013). Source: [StackOverflow Blog](https://stackoverflow.blog/2017/09/06/incredible-growth-python/)\n",
    "\n",
    "Python...\n",
    "- is beginner friendly,\n",
    "- flexible,\n",
    "- readable,\n",
    "- has a big onliny community,\n",
    "- is a first-class tool for scientific computing tasks, including the analysis and visualization of large datasets,\n",
    "- is used in\n",
    "    - Remote Sensing\n",
    "    - Machine Learning\n",
    "    - Big Data\n",
    "    - Image Processing\n",
    "    - Data Analysis\n",
    "    - Data Visualization\n",
    "\n",
    "\n",
    "- is the 2nd most demanded programming skill (in the US)\n",
    "- is the 2nd best paid programming skill (> 105'000$ in the US)\n",
    "- is heavily used at large companies like Google & Facebook but also at NASA, ESA, EUMETSAT, etc.\n",
    "\n",
    "----------"
   ]
  },
  {
   "cell_type": "markdown",
   "metadata": {},
   "source": [
    "## Aim of the course\n",
    "\n",
    "**At the end of this course you will be able to...**"
   ]
  },
  {
   "cell_type": "markdown",
   "metadata": {},
   "source": [
    "**... work with the basic concepts of Python:**"
   ]
  },
  {
   "cell_type": "code",
   "execution_count": 7,
   "metadata": {},
   "outputs": [
    {
     "name": "stdout",
     "output_type": "stream",
     "text": [
      "Hallo Welt!\n"
     ]
    }
   ],
   "source": [
    "print(\"Hallo Welt!\")"
   ]
  },
  {
   "cell_type": "markdown",
   "metadata": {},
   "source": [
    "**... use standard Python tools for data science (numpy, scipy, pandas, matplotlib):**"
   ]
  },
  {
   "cell_type": "code",
   "execution_count": 31,
   "metadata": {},
   "outputs": [
    {
     "data": {
      "image/png": "[encoded data removed]",
      "text/plain": [
       "<Figure size 432x288 with 1 Axes>"
      ]
     },
     "metadata": {},
     "output_type": "display_data"
    }
   ],
   "source": [
    "import numpy as np\n",
    "import matplotlib.pyplot as plt\n",
    "\n",
    "plt.plot(np.linspace(0,10,100),np.random.random(100)+np.linspace(0,3,100))\n",
    "plt.show()"
   ]
  },
  {
   "cell_type": "markdown",
   "metadata": {},
   "source": [
    "**... visualize your data in map plots:**\n",
    "\n",
    "<img src=\"images/S01E01/basemap_example.png\" style=\"float: left\" width=\"300\"/>"
   ]
  },
  {
   "cell_type": "markdown",
   "metadata": {},
   "source": [
    "**... read, manipulate and visualize meteorological satellite data (e.g. Meteosat):**\n",
    "\n",
    "<img src=\"images/S01E01/msg_example.png\" style=\"float: left\" width=\"300\"/>"
   ]
  },
  {
   "cell_type": "markdown",
   "metadata": {},
   "source": [
    "---\n",
    "## Organizational matters\n",
    "\n",
    "- **3 ECTS** credits are awarded for successfully completing this course.\n",
    "- Course materials are made available on the **OER-Marburg** platform: https://oer.uni-marburg.de/ [LINK vervollständigen]\n",
    "- Weekly exercises are distributed via **github classroom** and must also be submitted there.\n",
    "- To pass the course, at least **50%** of the weekly exercises must have been correctly completed."
   ]
  },
  {
   "cell_type": "markdown",
   "metadata": {},
   "source": [
    "## Software requirements\n",
    "\n",
    "- [Python 3](https://www.python.org/downloads/)\n",
    "\n",
    "- [git](https://git-scm.com/)\n",
    "    - open git BASH and enter the following commands:\n",
    "    \n",
    "    `git config --global user.name 'Firstname Lastname'`\n",
    "\n",
    "    `git config --global user.email 'your@email.com'`\n",
    "\n",
    "    `git config --global --list`\n",
    "\n",
    "\n",
    "- [Spyder](https://www.spyder-ide.org/) (or another IDE of your choice)\n",
    "- [miniconda](https://docs.conda.io/en/latest/miniconda.html)"
   ]
  },
  {
   "cell_type": "markdown",
   "metadata": {},
   "source": [
    "## GitHub Classroom\n",
    "\n",
    "- Create an account at github.com: https://github.com/\n",
    "    - Plan: Free\n",
    "    - Verify email address\n",
    "    - Accept first assignment: https://classroom.github.com/a/N1mDL3m7\n",
    "    - Clone (download) the assigned repository to your local machine: \n",
    "    \n",
    "    `git clone https://github.com/python-kurs/exercise-1-[yourname].git`"
   ]
  },
  {
   "cell_type": "markdown",
   "metadata": {},
   "source": [
    "---"
   ]
  },
  {
   "cell_type": "markdown",
   "metadata": {},
   "source": [
    "## Exercise 1\n",
    "\n",
    "- Complete the first assignment and push your results until tuesday 14:00 next week"
   ]
  }
 ],
 "metadata": {
  "kernelspec": {
   "display_name": "Python 3",
   "language": "python",
   "name": "python3"
  },
  "language_info": {
   "codemirror_mode": {
    "name": "ipython",
    "version": 3
   },
   "file_extension": ".py",
   "mimetype": "text/x-python",
   "name": "python",
   "nbconvert_exporter": "python",
   "pygments_lexer": "ipython3",
   "version": "3.7.1"
  }
 },
 "nbformat": 4,
 "nbformat_minor": 2
}
