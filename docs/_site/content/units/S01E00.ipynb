{
 "cells": [
  {
   "cell_type": "markdown",
   "metadata": {},
   "source": [
    "<img src=\"images/header.png\" style=\"float: left\"  width=\"800\">"
   ]
  },
  {
   "cell_type": "markdown",
   "metadata": {},
   "source": [
    "# Syllabus\n",
    "\n",
    "**1. Introduction & Orga** (17.04.2019)\n",
    "\n",
    "**2. Python Basics I** (24.04.2019)\n",
    "- Variables\n",
    "- Data types\n",
    "- Operators\n",
    "- Formatted printing\n",
    "    \n",
    "**3. Python Basics II** (08.05.2019)\n",
    "- Sequential data types (Strings & Lists)\n",
    "- List manipulation (peek, pop, deep copies, ...)\n",
    "- Indents\n",
    "- for- and while- loops\n",
    "- conditional cases\n",
    "\n",
    "**4. Python Basics III** (15.05.2019)\n",
    "- Dictionaries\n",
    "- Methods\n",
    "- global vs. local variables\n",
    "\n",
    "**5. Python Basics IV** (22.05.2019)\n",
    "- try/except\n",
    "- read/write text files\n",
    "- import function\n",
    "\n",
    "**6. Visualization I**(29.05.2019)\n",
    "- matplotlib\n",
    "- Line plots, scatter plots, bar plots \n",
    "\n",
    "**7. Essentials for data science** (05.06.2019)\n",
    "- numpy  (unlabeled nd-arrays)\n",
    "- xarray (labeled nd-arrays)\n",
    "- pandas (csv-import, Datasets)\n",
    "\n",
    "**8. Visualization II** (12.06.2019)\n",
    "- CartoPy\n",
    "- Image plots\n",
    "- Map plots (of georeferenced data)\n",
    "\n",
    "**9. SatPy I** (26.06.2019)\n",
    "- Read Meteosat scene\n",
    "- print and interpret scene properties\n",
    "- visualize data\n",
    "- Write data to disk\n",
    "\n",
    "**10. SatPy II** (03.07.2019)\n",
    "- Reproject satellite data (resampling)\n",
    "- create band combinations\n",
    "- MultiScene function\n",
    "\n",
    "**11. SatPy III** (10.07.2019)\n",
    "- Integration of multiple satellite formats (MODIS, Meteosat, ...)\n",
    "\n",
    "**12. Wrap-Up** (17.07.2019)\n",
    "- ...\n",
    "- Feedback"
   ]
  },
  {
   "cell_type": "code",
   "execution_count": null,
   "metadata": {},
   "outputs": [],
   "source": []
  }
 ],
 "metadata": {
  "kernelspec": {
   "display_name": "Python 3",
   "language": "python",
   "name": "python3"
  },
  "language_info": {
   "codemirror_mode": {
    "name": "ipython",
    "version": 3
   },
   "file_extension": ".py",
   "mimetype": "text/x-python",
   "name": "python",
   "nbconvert_exporter": "python",
   "pygments_lexer": "ipython3",
   "version": "3.7.1"
  }
 },
 "nbformat": 4,
 "nbformat_minor": 2
}
